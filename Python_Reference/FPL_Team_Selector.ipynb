{
 "cells": [
  {
   "cell_type": "markdown",
   "id": "a47b0f2f",
   "metadata": {},
   "source": [
    "# FPL Team Selector: Git Branch and Agent Attribution Demo\n",
    "\n",
    "*Created by GitHub Copilot agent*\n",
    "\n",
    "\n",
    "## 1. Set Up Git Repository\n",
    "This section ensures you are in the correct Git repository. If you haven't initialized a repository, run the following command in your project directory:\n",
    "\n",
    "```sh\n",
    "git init\n",
    "```\n",
    "If you already have a repository, you can skip this step."
   ]
  },
  {
   "cell_type": "code",
   "execution_count": null,
   "id": "906800a1",
   "metadata": {},
   "outputs": [],
   "source": [
    "# Navigate to your project directory (if not already there)\n",
    "import os\n",
    "os.chdir(r'C:/Git/IDWT-All-Things-SQL-And-Python-And-Code')\n",
    "\n",
    "# Initialize git repository if needed\n",
    "!git status || git init"
   ]
  },
  {
   "cell_type": "markdown",
   "id": "8351ed86",
   "metadata": {},
   "source": [
    "## 2. Create a New Branch\n",
    "Create and switch to a new branch for your changes. Replace `<branch_name>` with your desired branch name. Example: `copilot-fpl-agent-update`.\n",
    "\n",
    "```sh\n",
    "git checkout -b copilot-fpl-agent-update\n",
    "```"
   ]
  },
  {
   "cell_type": "code",
   "execution_count": null,
   "id": "ed0c6548",
   "metadata": {},
   "outputs": [],
   "source": [
    "# Create and switch to a new branch\n",
    "branch_name = 'copilot-fpl-agent-update'\n",
    "!git checkout -b {branch_name}"
   ]
  },
  {
   "cell_type": "markdown",
   "id": "9287e4a2",
   "metadata": {},
   "source": [
    "## 3. Modify a File\n",
    "Add the string 'created my agent from copilot' to a name in a file. For demonstration, we'll update a file called `agent_name.txt`."
   ]
  },
  {
   "cell_type": "code",
   "execution_count": null,
   "id": "635ae2ff",
   "metadata": {},
   "outputs": [],
   "source": [
    "# Modify a file by adding the agent attribution\n",
    "filename = 'agent_name.txt'\n",
    "name = 'FPL Team Selector'\n",
    "with open(filename, 'w') as f:\n",
    "    f.write(f'{name} - created my agent from copilot\\n')\n",
    "print(f\"Updated {filename} with attribution.\")"
   ]
  },
  {
   "cell_type": "markdown",
   "id": "2289a11a",
   "metadata": {},
   "source": [
    "## 4. Commit Changes\n",
    "Stage and commit your changes to the new branch. Example commit message: 'Add agent attribution to name'.\n",
    "\n",
    "```sh\n",
    "git add agent_name.txt\n",
    "git commit -m \"Add agent attribution to name\"\n",
    "```"
   ]
  },
  {
   "cell_type": "code",
   "execution_count": null,
   "id": "2fecc206",
   "metadata": {},
   "outputs": [],
   "source": [
    "# Stage and commit the changes\n",
    "!git add agent_name.txt\n",
    "!git commit -m \"Add agent attribution to name\""
   ]
  },
  {
   "cell_type": "markdown",
   "id": "0eec0936",
   "metadata": {},
   "source": [
    "## 5. Push the Branch to Remote\n",
    "Push your new branch to the remote repository. Make sure you have the correct remote set up (usually 'origin').\n",
    "\n",
    "```sh\n",
    "git push -u origin copilot-fpl-agent-update\n",
    "```"
   ]
  },
  {
   "cell_type": "code",
   "execution_count": null,
   "id": "396ef617",
   "metadata": {},
   "outputs": [],
   "source": [
    "# Push the branch to remote\n",
    "!git push -u origin copilot-fpl-agent-update"
   ]
  },
  {
   "cell_type": "markdown",
   "id": "871d9c5a",
   "metadata": {},
   "source": [
    "## 6. FPL Team Selection: Fetch Data and Optimize Team\n",
    "This section fetches the latest FPL data from the public API, runs a linear programming optimization to select the optimal team, and displays a sample output."
   ]
  },
  {
   "cell_type": "code",
   "execution_count": 1,
   "id": "f37eabe9",
   "metadata": {},
   "outputs": [
    {
     "name": "stdout",
     "output_type": "stream",
     "text": [
      "^C\n"
     ]
    }
   ],
   "source": [
    "# Install required packages (if not already installed)\n",
    "import sys\n",
    "!{sys.executable} -m pip install requests pulp pandas"
   ]
  },
  {
   "cell_type": "code",
   "execution_count": null,
   "id": "10f52fd5",
   "metadata": {},
   "outputs": [],
   "source": [
    "import requests\n",
    "import pandas as pd\n",
    "import pulp as lp\n",
    "\n",
    "# Fetch latest FPL data\n",
    "fpl_api_url = \"https://fantasy.premierleague.com/api/bootstrap-static/\"\n",
    "response = requests.get(fpl_api_url)\n",
    "data = response.json()\n",
    "\n",
    "# Prepare player and team data\n",
    "elements = data[\"elements\"]\n",
    "teams = data[\"teams\"]\n",
    "\n",
    "players_data = {}\n",
    "teams_data = {}\n",
    "for player in elements:\n",
    "    player_name = f\"{player['first_name']} {player['second_name']}\"\n",
    "    players_data[player_name] = {\n",
    "        \"position\": player[\"element_type\"],\n",
    "        \"points_total\": player[\"total_points\"],\n",
    "        \"cost\": player[\"now_cost\"] / 10,  # Convert to millions\n",
    "        \"team\": player[\"team\"],\n",
    "    }\n",
    "    team_id = player[\"team\"]\n",
    "    team_name = teams[team_id - 1][\"name\"]  # Adjust team_id to index\n",
    "    teams_data[team_id] = team_name\n",
    "\n",
    "# FPL constraints\n",
    "max_starting_11_players_per_position = {1: 1, 2: 5, 3: 5, 4: 3}\n",
    "min_starting_11_players_per_position = {1: 1, 2: 3, 3: 2, 4: 1}\n",
    "max_squad_players_per_position = {1: 2, 2: 5, 3: 5, 4: 3}\n",
    "total_budget = 100\n",
    "\n",
    "# Optimization model\n",
    "model = lp.LpProblem(\"FantasyFootballTeam\", lp.LpMaximize)\n",
    "player_vars_starting_11 = {player: lp.LpVariable(f\"starting_11_{player}\", cat=lp.LpBinary) for player in players_data}\n",
    "player_vars_squad = {player: lp.LpVariable(f\"squad_{player}\", cat=lp.LpBinary) for player in players_data}\n",
    "\n",
    "# Objective: maximize total points from starting 11\n",
    "model += lp.lpSum(players_data[player][\"points_total\"] * player_vars_starting_11[player] for player in players_data), \"TotalPointsStarting11\"\n",
    "\n",
    "# Constraints\n",
    "model += lp.lpSum(players_data[player][\"cost\"] * player_vars_squad[player] for player in players_data) <= total_budget, \"Budget\"\n",
    "model += lp.lpSum(player_vars_squad[player] for player in players_data) == 15, \"SquadSize\"\n",
    "for player in players_data:\n",
    "    model += player_vars_starting_11[player] <= player_vars_squad[player], f\"Starting11InSquad_{player}\"\n",
    "model += lp.lpSum(player_vars_starting_11[player] for player in players_data) == 11, \"Starting11Size\"\n",
    "for position, min_count in min_starting_11_players_per_position.items():\n",
    "    model += lp.lpSum(player_vars_starting_11[player] for player in players_data if players_data[player][\"position\"] == position) >= min_count, f\"MinStarting11PlayersPosition{position}\"\n",
    "for position, max_count in max_starting_11_players_per_position.items():\n",
    "    model += lp.lpSum(player_vars_starting_11[player] for player in players_data if players_data[player][\"position\"] == position) <= max_count, f\"MaxStarting11PlayersPosition{position}\"\n",
    "for position, max_count in max_squad_players_per_position.items():\n",
    "    model += lp.lpSum(player_vars_squad[player] for player in players_data if players_data[player][\"position\"] == position) <= max_count, f\"MaxSquadPlayersPosition{position}\"\n",
    "for team_id, team_name in teams_data.items():\n",
    "    model += lp.lpSum(player_vars_squad[player] for player in players_data if players_data[player][\"team\"] == team_id) <= 3, f\"MaxPlayersPerTeam_{team_name}\"\n",
    "\n",
    "# Solve\n",
    "model.solve()\n",
    "\n",
    "# Extract results\n",
    "selected_players = [player for player in players_data if lp.value(player_vars_squad[player]) > 0]\n",
    "starting_11 = [player for player in players_data if lp.value(player_vars_starting_11[player]) > 0]\n",
    "bench_players = [player for player in selected_players if player not in starting_11]\n",
    "\n",
    "# Suggest captain (highest points in starting 11)\n",
    "captain = max(starting_11, key=lambda x: players_data[x][\"points_total\"])\n",
    "\n",
    "# Output\n",
    "print(\"Sample Output: Optimal FPL Team\")\n",
    "print(\"\\nStarting 11:\")\n",
    "for player in starting_11:\n",
    "    data = players_data[player]\n",
    "    print(f\"{player} | Position: {data['position']} | Points: {data['points_total']} | Cost: £{data['cost']}m | Team: {teams_data[data['team']]}\")\n",
    "print(\"\\nBench:\")\n",
    "for player in bench_players:\n",
    "    data = players_data[player]\n",
    "    print(f\"{player} | Position: {data['position']} | Points: {data['points_total']} | Cost: £{data['cost']}m | Team: {teams_data[data['team']]}\")\n",
    "print(f\"\\nSuggested Captain: {captain}\")"
   ]
  }
 ],
 "metadata": {
  "kernelspec": {
   "display_name": "Python 3",
   "language": "python",
   "name": "python3"
  },
  "language_info": {
   "codemirror_mode": {
    "name": "ipython",
    "version": 3
   },
   "file_extension": ".py",
   "mimetype": "text/x-python",
   "name": "python",
   "nbconvert_exporter": "python",
   "pygments_lexer": "ipython3",
   "version": "3.11.9"
  }
 },
 "nbformat": 4,
 "nbformat_minor": 5
}
