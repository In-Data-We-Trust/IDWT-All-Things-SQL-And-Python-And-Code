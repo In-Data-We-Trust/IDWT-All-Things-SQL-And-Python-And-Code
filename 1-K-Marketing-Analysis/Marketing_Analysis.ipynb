{
 "cells": [
  {
   "cell_type": "markdown",
   "metadata": {},
   "source": [
    "# Purpose of Notebook\n",
    "\n",
    "To conduct a PoC with dummy data to carry out the below highlevel process:\n",
    "\n",
    "1. Read Data from a .xslx and import into pandas data frame\n",
    "2. Apply the required business rules to categorise information in python\n",
    "3. Provide the output in a .xslx file that is split accordingly"
   ]
  },
  {
   "cell_type": "markdown",
   "metadata": {},
   "source": [
    "## Step 1 - Read Data from .xslx and import into pandas data frame"
   ]
  },
  {
   "cell_type": "markdown",
   "metadata": {},
   "source": [
    "Install the required libraries for the script"
   ]
  },
  {
   "cell_type": "code",
   "execution_count": 1,
   "metadata": {},
   "outputs": [],
   "source": [
    "#!pip install pandas\n",
    "#!pip install ipywidgets\n",
    "#!pip install openpyxl\n"
   ]
  },
  {
   "cell_type": "markdown",
   "metadata": {},
   "source": [
    "Read the data from .xslx and import into pandas"
   ]
  },
  {
   "cell_type": "code",
   "execution_count": 2,
   "metadata": {},
   "outputs": [],
   "source": [
    "import pandas as pd\n",
    "import openpyxl\n",
    "from openpyxl.utils.dataframe import dataframe_to_rows\n",
    "from openpyxl import Workbook\n",
    "from openpyxl import load_workbook\n",
    "\n",
    "# Read the data from the Excel file, skipping the first row\n",
    "\n",
    "df = pd.read_excel('./data.xlsx', sheet_name='2024 Tracking', skiprows=1)\n",
    "\n"
   ]
  },
  {
   "cell_type": "code",
   "execution_count": 3,
   "metadata": {},
   "outputs": [
    {
     "data": {
      "text/plain": [
       "0    0.500\n",
       "1    0.600\n",
       "2    0.680\n",
       "3    0.700\n",
       "4    0.745\n",
       "5    0.750\n",
       "6    0.800\n",
       "7    0.350\n",
       "8    0.400\n",
       "9      NaN\n",
       "Name: Average Monthly Reach Projected, dtype: float64"
      ]
     },
     "execution_count": 3,
     "metadata": {},
     "output_type": "execute_result"
    }
   ],
   "source": [
    "### This can be removed once validated\n",
    "df[\"Average Monthly Reach Projected\"].head(10)\n",
    "### This can be removed once validated"
   ]
  },
  {
   "cell_type": "markdown",
   "metadata": {},
   "source": [
    "## Step 2 - We need to add the required business logic"
   ]
  },
  {
   "cell_type": "code",
   "execution_count": 4,
   "metadata": {},
   "outputs": [],
   "source": [
    "# Need to add required business logic to the data. Using the column \"Average Monthly Reach Projected\"\n",
    "# I will categorise the reach into 3 categories:\n",
    "# 1. Under Invested - If the reach is less than 70%\n",
    "# 2. Correctly Invested - If the reach is between 70% and 75%\n",
    "# 3. Over Invested - If the reach is more than 75%\n",
    "\n",
    "def categorize_reach(x):\n",
    "    if pd.isnull(x):\n",
    "        return x\n",
    "    elif x > 0.75:\n",
    "        return '3 - Over Invested'\n",
    "    elif x >= 0.70:\n",
    "        return '2 - Correctly Invested'\n",
    "    else:\n",
    "        return '1 - Under Invested'\n",
    "\n",
    "df['Monthly Reach Grouping'] = df['Average Monthly Reach Projected'].apply(categorize_reach)"
   ]
  },
  {
   "cell_type": "markdown",
   "metadata": {},
   "source": [
    "# Step 3 - Now we prepare the data to be loaded into the .xslx output\n",
    "\n",
    "For this we will need 4 dataframe outputs\n",
    "1. All rows and data\n",
    "2. Only those where they are 1 - Under Invested\n",
    "3. Only those where they are 2 - Correctly Invexted\n",
    "4. Only those where they are 3 - Over Invested\n",
    "5. Those where % is blank or nan"
   ]
  },
  {
   "cell_type": "code",
   "execution_count": 5,
   "metadata": {},
   "outputs": [
    {
     "data": {
      "text/html": [
       "<div>\n",
       "<style scoped>\n",
       "    .dataframe tbody tr th:only-of-type {\n",
       "        vertical-align: middle;\n",
       "    }\n",
       "\n",
       "    .dataframe tbody tr th {\n",
       "        vertical-align: top;\n",
       "    }\n",
       "\n",
       "    .dataframe thead th {\n",
       "        text-align: right;\n",
       "    }\n",
       "</style>\n",
       "<table border=\"1\" class=\"dataframe\">\n",
       "  <thead>\n",
       "    <tr style=\"text-align: right;\">\n",
       "      <th></th>\n",
       "      <th>Market</th>\n",
       "      <th>Brand</th>\n",
       "      <th>Category</th>\n",
       "      <th>Average Monthly Reach Target</th>\n",
       "      <th>Average Monthly Reach Projected</th>\n",
       "      <th>Monthly Reach Grouping</th>\n",
       "    </tr>\n",
       "  </thead>\n",
       "  <tbody>\n",
       "    <tr>\n",
       "      <th>0</th>\n",
       "      <td>United States</td>\n",
       "      <td>Adult Motrin</td>\n",
       "      <td>Pain</td>\n",
       "      <td>0.7</td>\n",
       "      <td>0.500</td>\n",
       "      <td>1 - Under Invested</td>\n",
       "    </tr>\n",
       "    <tr>\n",
       "      <th>1</th>\n",
       "      <td>United States</td>\n",
       "      <td>Adult Tylenol</td>\n",
       "      <td>Pain</td>\n",
       "      <td>0.7</td>\n",
       "      <td>0.600</td>\n",
       "      <td>1 - Under Invested</td>\n",
       "    </tr>\n",
       "    <tr>\n",
       "      <th>2</th>\n",
       "      <td>United States</td>\n",
       "      <td>Adult Zyrtec</td>\n",
       "      <td>Allergy Care</td>\n",
       "      <td>0.7</td>\n",
       "      <td>0.680</td>\n",
       "      <td>1 - Under Invested</td>\n",
       "    </tr>\n",
       "    <tr>\n",
       "      <th>3</th>\n",
       "      <td>United States</td>\n",
       "      <td>Aveeno</td>\n",
       "      <td>Body</td>\n",
       "      <td>0.7</td>\n",
       "      <td>0.700</td>\n",
       "      <td>2 - Correctly Invested</td>\n",
       "    </tr>\n",
       "    <tr>\n",
       "      <th>4</th>\n",
       "      <td>United States</td>\n",
       "      <td>Aveeno</td>\n",
       "      <td>Face</td>\n",
       "      <td>0.7</td>\n",
       "      <td>0.745</td>\n",
       "      <td>2 - Correctly Invested</td>\n",
       "    </tr>\n",
       "    <tr>\n",
       "      <th>5</th>\n",
       "      <td>United States</td>\n",
       "      <td>Aveeno</td>\n",
       "      <td>Megabrand</td>\n",
       "      <td>0.7</td>\n",
       "      <td>0.750</td>\n",
       "      <td>2 - Correctly Invested</td>\n",
       "    </tr>\n",
       "    <tr>\n",
       "      <th>6</th>\n",
       "      <td>United States</td>\n",
       "      <td>Aveeno Baby</td>\n",
       "      <td>Baby</td>\n",
       "      <td>0.7</td>\n",
       "      <td>0.800</td>\n",
       "      <td>3 - Over Invested</td>\n",
       "    </tr>\n",
       "    <tr>\n",
       "      <th>7</th>\n",
       "      <td>United States</td>\n",
       "      <td>Aveeno Kids</td>\n",
       "      <td>Baby</td>\n",
       "      <td>0.7</td>\n",
       "      <td>0.350</td>\n",
       "      <td>1 - Under Invested</td>\n",
       "    </tr>\n",
       "    <tr>\n",
       "      <th>8</th>\n",
       "      <td>United States</td>\n",
       "      <td>Band Aid</td>\n",
       "      <td>Would Care</td>\n",
       "      <td>0.7</td>\n",
       "      <td>0.400</td>\n",
       "      <td>1 - Under Invested</td>\n",
       "    </tr>\n",
       "    <tr>\n",
       "      <th>9</th>\n",
       "      <td>United States</td>\n",
       "      <td>Benadryl</td>\n",
       "      <td>Allergy Care</td>\n",
       "      <td>0.7</td>\n",
       "      <td>NaN</td>\n",
       "      <td>NaN</td>\n",
       "    </tr>\n",
       "  </tbody>\n",
       "</table>\n",
       "</div>"
      ],
      "text/plain": [
       "          Market           Brand      Category  Average Monthly Reach Target  \\\n",
       "0  United States    Adult Motrin          Pain                           0.7   \n",
       "1  United States  Adult Tylenol           Pain                           0.7   \n",
       "2  United States    Adult Zyrtec  Allergy Care                           0.7   \n",
       "3  United States          Aveeno         Body                            0.7   \n",
       "4  United States          Aveeno         Face                            0.7   \n",
       "5  United States          Aveeno    Megabrand                            0.7   \n",
       "6  United States     Aveeno Baby          Baby                           0.7   \n",
       "7  United States     Aveeno Kids          Baby                           0.7   \n",
       "8  United States        Band Aid    Would Care                           0.7   \n",
       "9  United States        Benadryl  Allergy Care                           0.7   \n",
       "\n",
       "   Average Monthly Reach Projected  Monthly Reach Grouping  \n",
       "0                            0.500      1 - Under Invested  \n",
       "1                            0.600      1 - Under Invested  \n",
       "2                            0.680      1 - Under Invested  \n",
       "3                            0.700  2 - Correctly Invested  \n",
       "4                            0.745  2 - Correctly Invested  \n",
       "5                            0.750  2 - Correctly Invested  \n",
       "6                            0.800       3 - Over Invested  \n",
       "7                            0.350      1 - Under Invested  \n",
       "8                            0.400      1 - Under Invested  \n",
       "9                              NaN                     NaN  "
      ]
     },
     "execution_count": 5,
     "metadata": {},
     "output_type": "execute_result"
    }
   ],
   "source": [
    "# Create a new DataFrame for the columns required in the output\n",
    "df_filtered_columns = df[['Market', 'Brand', 'Category', 'Average Monthly Reach Target', 'Average Monthly Reach Projected', 'Monthly Reach Grouping']]\n",
    "df_filtered_columns.head(10)"
   ]
  },
  {
   "cell_type": "code",
   "execution_count": 6,
   "metadata": {},
   "outputs": [],
   "source": [
    "# Create a data frame for each required output\n",
    "df_under_invested = df_filtered_columns[df_filtered_columns['Monthly Reach Grouping'] == '1 - Under Invested']\n",
    "df_correctly_invested = df_filtered_columns[df_filtered_columns['Monthly Reach Grouping'] == '2 - Correctly Invested']\n",
    "df_over_invested = df_filtered_columns[df_filtered_columns['Monthly Reach Grouping'] == '3 - Over Invested']\n",
    "df_nan = df_filtered_columns[df_filtered_columns['Monthly Reach Grouping'].isna()]"
   ]
  },
  {
   "cell_type": "code",
   "execution_count": 10,
   "metadata": {},
   "outputs": [
    {
     "data": {
      "text/html": [
       "<div>\n",
       "<style scoped>\n",
       "    .dataframe tbody tr th:only-of-type {\n",
       "        vertical-align: middle;\n",
       "    }\n",
       "\n",
       "    .dataframe tbody tr th {\n",
       "        vertical-align: top;\n",
       "    }\n",
       "\n",
       "    .dataframe thead th {\n",
       "        text-align: right;\n",
       "    }\n",
       "</style>\n",
       "<table border=\"1\" class=\"dataframe\">\n",
       "  <thead>\n",
       "    <tr style=\"text-align: right;\">\n",
       "      <th></th>\n",
       "      <th>Market</th>\n",
       "      <th>Brand</th>\n",
       "      <th>Category</th>\n",
       "      <th>Average Monthly Reach Target</th>\n",
       "      <th>Average Monthly Reach Projected</th>\n",
       "      <th>Monthly Reach Grouping</th>\n",
       "    </tr>\n",
       "  </thead>\n",
       "  <tbody>\n",
       "    <tr>\n",
       "      <th>9</th>\n",
       "      <td>United States</td>\n",
       "      <td>Benadryl</td>\n",
       "      <td>Allergy Care</td>\n",
       "      <td>0.7</td>\n",
       "      <td>NaN</td>\n",
       "      <td>NaN</td>\n",
       "    </tr>\n",
       "    <tr>\n",
       "      <th>19</th>\n",
       "      <td>United States</td>\n",
       "      <td>Neutrogena</td>\n",
       "      <td>Makeup</td>\n",
       "      <td>0.7</td>\n",
       "      <td>NaN</td>\n",
       "      <td>NaN</td>\n",
       "    </tr>\n",
       "    <tr>\n",
       "      <th>29</th>\n",
       "      <td>UK</td>\n",
       "      <td>Aveeno Baby</td>\n",
       "      <td>Baby</td>\n",
       "      <td>0.7</td>\n",
       "      <td>NaN</td>\n",
       "      <td>NaN</td>\n",
       "    </tr>\n",
       "    <tr>\n",
       "      <th>39</th>\n",
       "      <td>UK</td>\n",
       "      <td>OGX</td>\n",
       "      <td>Hair Care</td>\n",
       "      <td>0.7</td>\n",
       "      <td>NaN</td>\n",
       "      <td>NaN</td>\n",
       "    </tr>\n",
       "    <tr>\n",
       "      <th>49</th>\n",
       "      <td>Sweden</td>\n",
       "      <td>Natusan</td>\n",
       "      <td>Baby</td>\n",
       "      <td>0.7</td>\n",
       "      <td>NaN</td>\n",
       "      <td>NaN</td>\n",
       "    </tr>\n",
       "  </tbody>\n",
       "</table>\n",
       "</div>"
      ],
      "text/plain": [
       "           Market        Brand      Category  Average Monthly Reach Target  \\\n",
       "9   United States     Benadryl  Allergy Care                           0.7   \n",
       "19  United States   Neutrogena        Makeup                           0.7   \n",
       "29             UK  Aveeno Baby          Baby                           0.7   \n",
       "39            UK           OGX    Hair Care                            0.7   \n",
       "49         Sweden      Natusan          Baby                           0.7   \n",
       "\n",
       "    Average Monthly Reach Projected Monthly Reach Grouping  \n",
       "9                               NaN                    NaN  \n",
       "19                              NaN                    NaN  \n",
       "29                              NaN                    NaN  \n",
       "39                              NaN                    NaN  \n",
       "49                              NaN                    NaN  "
      ]
     },
     "execution_count": 10,
     "metadata": {},
     "output_type": "execute_result"
    }
   ],
   "source": [
    "df_nan.head()"
   ]
  },
  {
   "cell_type": "code",
   "execution_count": 12,
   "metadata": {},
   "outputs": [],
   "source": [
    "# Output each dataframe into a sheet in a new excel file called \"Data_output.xlsx\"\n",
    "with pd.ExcelWriter('Data_output.xlsx') as writer:\n",
    "    df_filtered_columns.to_excel(writer, sheet_name='All Market and Brands', index=False)\n",
    "    df_under_invested.to_excel(writer, sheet_name='Under Invested', index=False)\n",
    "    df_correctly_invested.to_excel(writer, sheet_name='Correctly Invested', index=False)\n",
    "    df_over_invested.to_excel(writer, sheet_name='Over Invested', index=False)\n",
    "    df_nan.to_excel(writer, sheet_name='No Data', index=False)"
   ]
  },
  {
   "cell_type": "code",
   "execution_count": null,
   "metadata": {},
   "outputs": [],
   "source": [
    "# Load the workbook and expand all column widths to fit the data\n",
    "book = load_workbook('./Data_output.xlsx')\n",
    "\n",
    "for sheet in book.worksheets:\n",
    "    for column in sheet.columns:\n",
    "        max_length = 0\n",
    "        column = [cell for cell in column]\n",
    "        for cell in column:\n",
    "            try:\n",
    "                if len(str(cell.value)) > max_length:\n",
    "                    max_length = len(cell.value)\n",
    "            except:\n",
    "                pass\n",
    "        adjusted_width = (max_length + 2)\n",
    "        sheet.column_dimensions[column[0].column_letter].width = adjusted_width\n",
    "\n",
    "# Save the workbook\n",
    "book.save('Data_output.xlsx')"
   ]
  }
 ],
 "metadata": {
  "kernelspec": {
   "display_name": "base",
   "language": "python",
   "name": "python3"
  },
  "language_info": {
   "codemirror_mode": {
    "name": "ipython",
    "version": 3
   },
   "file_extension": ".py",
   "mimetype": "text/x-python",
   "name": "python",
   "nbconvert_exporter": "python",
   "pygments_lexer": "ipython3",
   "version": "3.8.8"
  }
 },
 "nbformat": 4,
 "nbformat_minor": 2
}
