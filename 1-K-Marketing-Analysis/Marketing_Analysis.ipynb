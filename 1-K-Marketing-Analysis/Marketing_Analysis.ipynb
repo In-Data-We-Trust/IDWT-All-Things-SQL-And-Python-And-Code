{
 "cells": [
  {
   "cell_type": "markdown",
   "metadata": {},
   "source": [
    "# Purpose of Notebook\n",
    "\n",
    "To conduct a PoC with dummy data to carry out the below highlevel process:\n",
    "\n",
    "1. Read Data from a .xslx and import into pandas data frame\n",
    "2. Apply the required business rules to categorise information in python\n",
    "3. Provide the output in a .xslx file that is split accordingly"
   ]
  },
  {
   "cell_type": "markdown",
   "metadata": {},
   "source": [
    "## Step 1 - Read Data from .xslx and import into pandas data frame"
   ]
  },
  {
   "cell_type": "markdown",
   "metadata": {},
   "source": [
    "Install the required libraries for the script"
   ]
  },
  {
   "cell_type": "code",
   "execution_count": null,
   "metadata": {},
   "outputs": [],
   "source": [
    "#!pip install pandas\n",
    "#!pip install ipywidgets\n",
    "#!pip install openpyxl\n"
   ]
  },
  {
   "cell_type": "markdown",
   "metadata": {},
   "source": [
    "Read the data from .xslx and import into pandas"
   ]
  },
  {
   "cell_type": "code",
   "execution_count": null,
   "metadata": {},
   "outputs": [],
   "source": [
    "import pandas as pd\n",
    "import openpyxl\n",
    "from openpyxl.utils.dataframe import dataframe_to_rows\n",
    "from openpyxl import Workbook\n",
    "from openpyxl import load_workbook\n",
    "\n",
    "# Read the data from the Excel file, skipping the first row\n",
    "\n",
    "df = pd.read_excel('./data.xlsx', sheet_name='2024 Tracking', skiprows=1)\n",
    "\n"
   ]
  },
  {
   "cell_type": "code",
   "execution_count": null,
   "metadata": {},
   "outputs": [],
   "source": [
    "### This can be removed once validated\n",
    "df[\"Average Monthly Reach Projected\"].head(10)\n",
    "### This can be removed once validated"
   ]
  },
  {
   "cell_type": "markdown",
   "metadata": {},
   "source": [
    "## Step 2 - We need to add the required business logic"
   ]
  },
  {
   "cell_type": "code",
   "execution_count": null,
   "metadata": {},
   "outputs": [],
   "source": [
    "# Need to add required business logic to the data. Using the column \"Average Monthly Reach Projected\"\n",
    "# I will categorise the reach into 3 categories:\n",
    "# 1. Under Invested - If the reach is less than 70%\n",
    "# 2. Correctly Invested - If the reach is between 70% and 75%\n",
    "# 3. Over Invested - If the reach is more than 75%\n",
    "\n",
    "def categorize_reach(x):\n",
    "    if pd.isnull(x):\n",
    "        return x\n",
    "    elif x > 0.75:\n",
    "        return '3 - Over Invested'\n",
    "    elif x >= 0.70:\n",
    "        return '2 - Correctly Invested'\n",
    "    else:\n",
    "        return '1 - Under Invested'\n",
    "\n",
    "df['Monthly Reach Grouping'] = df['Average Monthly Reach Projected'].apply(categorize_reach)"
   ]
  },
  {
   "cell_type": "markdown",
   "metadata": {},
   "source": [
    "# Step 3 - Now we prepare the data to be loaded into the .xslx output\n",
    "\n",
    "For this we will need 4 dataframe outputs\n",
    "1. All rows and data\n",
    "2. Only those where they are 1 - Under Invested\n",
    "3. Only those where they are 2 - Correctly Invexted\n",
    "4. Only those where they are 3 - Over Invested\n",
    "5. Those where % is blank or nan"
   ]
  },
  {
   "cell_type": "code",
   "execution_count": null,
   "metadata": {},
   "outputs": [],
   "source": [
    "# Create a new DataFrame for the columns required in the output\n",
    "df_filtered_columns = df[['Market', 'Brand', 'Category', 'Average Monthly Reach Target', 'Average Monthly Reach Projected', 'Monthly Reach Grouping']]\n",
    "df_filtered_columns.head(10)"
   ]
  },
  {
   "cell_type": "code",
   "execution_count": null,
   "metadata": {},
   "outputs": [],
   "source": [
    "# Create a data frame for each required output\n",
    "df_under_invested = df_filtered_columns[df_filtered_columns['Monthly Reach Grouping'] == '1 - Under Invested']\n",
    "df_correctly_invested = df_filtered_columns[df_filtered_columns['Monthly Reach Grouping'] == '2 - Correctly Invested']\n",
    "df_over_invested = df_filtered_columns[df_filtered_columns['Monthly Reach Grouping'] == '3 - Over Invested']\n",
    "df_nan = df_filtered_columns[df_filtered_columns['Monthly Reach Grouping'].isna()]"
   ]
  },
  {
   "cell_type": "code",
   "execution_count": null,
   "metadata": {},
   "outputs": [],
   "source": [
    "df_nan.head()"
   ]
  },
  {
   "cell_type": "code",
   "execution_count": null,
   "metadata": {},
   "outputs": [],
   "source": [
    "# Output each dataframe into a sheet in a new excel file called \"Data_output.xlsx\"\n",
    "with pd.ExcelWriter('Data_output.xlsx') as writer:\n",
    "    df_filtered_columns.to_excel(writer, sheet_name='All Market and Brands', index=False)\n",
    "    df_under_invested.to_excel(writer, sheet_name='Under Invested', index=False)\n",
    "    df_correctly_invested.to_excel(writer, sheet_name='Correctly Invested', index=False)\n",
    "    df_over_invested.to_excel(writer, sheet_name='Over Invested', index=False)\n",
    "    df_nan.to_excel(writer, sheet_name='No Data', index=False)"
   ]
  },
  {
   "cell_type": "code",
   "execution_count": null,
   "metadata": {},
   "outputs": [],
   "source": [
    "# Load the workbook and expand all column widths to fit the data\n",
    "book = load_workbook('./Data_output.xlsx')\n",
    "\n",
    "for sheet in book.worksheets:\n",
    "    for column in sheet.columns:\n",
    "        max_length = 0\n",
    "        column = [cell for cell in column]\n",
    "        for cell in column:\n",
    "            try:\n",
    "                if len(str(cell.value)) > max_length:\n",
    "                    max_length = len(cell.value)\n",
    "            except:\n",
    "                pass\n",
    "        adjusted_width = (max_length + 2)\n",
    "        sheet.column_dimensions[column[0].column_letter].width = adjusted_width\n",
    "\n",
    "# Save the workbook\n",
    "book.save('Data_output.xlsx')\n"
   ]
  }
 ],
 "metadata": {
  "kernelspec": {
   "display_name": "base",
   "language": "python",
   "name": "python3"
  },
  "language_info": {
   "codemirror_mode": {
    "name": "ipython",
    "version": 3
   },
   "file_extension": ".py",
   "mimetype": "text/x-python",
   "name": "python",
   "nbconvert_exporter": "python",
   "pygments_lexer": "ipython3",
   "version": "3.8.8"
  }
 },
 "nbformat": 4,
 "nbformat_minor": 2
}
